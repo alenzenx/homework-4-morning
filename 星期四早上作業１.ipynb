{
  "nbformat": 4,
  "nbformat_minor": 0,
  "metadata": {
    "colab": {
      "provenance": [],
      "gpuType": "T4"
    },
    "kernelspec": {
      "name": "python3",
      "display_name": "Python 3"
    },
    "language_info": {
      "name": "python"
    },
    "accelerator": "GPU"
  },
  "cells": [
    {
      "cell_type": "markdown",
      "metadata": {
        "id": "678196f8"
      },
      "source": [
        "## Download and prepare data\n",
        "\n",
        "### Subtask:\n",
        "Download the necessary MNIST files and load them into a suitable format for PyTorch.\n"
      ]
    },
    {
      "cell_type": "markdown",
      "metadata": {
        "id": "6c98ed5e"
      },
      "source": [
        "**Reasoning**:\n",
        "The instructions require downloading and loading the MNIST dataset using PyTorch's `torchvision` library. This involves importing necessary modules, defining transformations, downloading the datasets, and creating data loaders. All these steps can be performed in a single code block.\n",
        "\n"
      ]
    },
    {
      "cell_type": "code",
      "metadata": {
        "colab": {
          "base_uri": "https://localhost:8080/"
        },
        "id": "352dcbd2",
        "outputId": "050eb56c-7ed7-44a6-df97-f04c05abb37e"
      },
      "source": [
        "import torch\n",
        "from torchvision import datasets, transforms\n",
        "\n",
        "# Define a transformation to convert the images to tensors\n",
        "transform = transforms.ToTensor()\n",
        "\n",
        "# Download and load the MNIST training dataset\n",
        "train_dataset = datasets.MNIST(root='./data', train=True, download=True, transform=transform)\n",
        "\n",
        "# Download and load the MNIST test dataset\n",
        "test_dataset = datasets.MNIST(root='./data', train=False, download=True, transform=transform)\n",
        "\n",
        "# Create data loaders for the training and test datasets\n",
        "batch_size = 128\n",
        "train_loader = torch.utils.data.DataLoader(train_dataset, batch_size=batch_size, shuffle=True)\n",
        "test_loader = torch.utils.data.DataLoader(test_dataset, batch_size=batch_size, shuffle=False)\n",
        "\n",
        "print(\"MNIST datasets downloaded and data loaders created.\")"
      ],
      "execution_count": 1,
      "outputs": [
        {
          "output_type": "stream",
          "name": "stderr",
          "text": [
            "100%|██████████| 9.91M/9.91M [00:00<00:00, 17.0MB/s]\n",
            "100%|██████████| 28.9k/28.9k [00:00<00:00, 508kB/s]\n",
            "100%|██████████| 1.65M/1.65M [00:00<00:00, 4.64MB/s]\n",
            "100%|██████████| 4.54k/4.54k [00:00<00:00, 13.0MB/s]"
          ]
        },
        {
          "output_type": "stream",
          "name": "stdout",
          "text": [
            "MNIST datasets downloaded and data loaders created.\n"
          ]
        },
        {
          "output_type": "stream",
          "name": "stderr",
          "text": [
            "\n"
          ]
        }
      ]
    },
    {
      "cell_type": "markdown",
      "metadata": {
        "id": "1a22cedb"
      },
      "source": [
        "## Define the vae model\n",
        "\n",
        "### Subtask:\n",
        "Implement the Encoder and Decoder networks, including the reparameterization trick.\n"
      ]
    },
    {
      "cell_type": "markdown",
      "metadata": {
        "id": "1b47194e"
      },
      "source": [
        "**Reasoning**:\n",
        "Implement the VAE class including the encoder, decoder, reparameterization trick, and forward pass as per the instructions.\n",
        "\n"
      ]
    },
    {
      "cell_type": "code",
      "metadata": {
        "id": "7fee83ed"
      },
      "source": [
        "import torch.nn as nn\n",
        "import torch.nn.functional as F\n",
        "\n",
        "class VAE(nn.Module):\n",
        "    def __init__(self, latent_dim):\n",
        "        super().__init__()\n",
        "\n",
        "        # Encoder layers\n",
        "        self.fc1 = nn.Linear(784, 512) # 28x28=784 to 512\n",
        "        self.fc2 = nn.Linear(512, 256)\n",
        "        self.fc_mu = nn.Linear(256, latent_dim)\n",
        "        self.fc_logvar = nn.Linear(256, latent_dim)\n",
        "\n",
        "        # Decoder layers\n",
        "        self.fc4 = nn.Linear(latent_dim, 256)\n",
        "        self.fc5 = nn.Linear(256, 512)\n",
        "        self.fc6 = nn.Linear(512, 784)\n",
        "\n",
        "    def encode(self, x):\n",
        "        h1 = F.relu(self.fc1(x))\n",
        "        h2 = F.relu(self.fc2(h1))\n",
        "        return self.fc_mu(h2), self.fc_logvar(h2)\n",
        "\n",
        "    def reparameterize(self, mu, logvar):\n",
        "        std = torch.exp(0.5 * logvar)\n",
        "        eps = torch.randn_like(std)\n",
        "        return mu + eps * std\n",
        "\n",
        "    def decode(self, z):\n",
        "        h3 = F.relu(self.fc4(z))\n",
        "        h4 = F.relu(self.fc5(h3))\n",
        "        return torch.sigmoid(self.fc6(h4)) # Use sigmoid for output to be in [0, 1]\n",
        "\n",
        "    def forward(self, x):\n",
        "        mu, logvar = self.encode(x.view(-1, 784))\n",
        "        z = self.reparameterize(mu, logvar)\n",
        "        return self.decode(z), mu, logvar\n"
      ],
      "execution_count": 2,
      "outputs": []
    },
    {
      "cell_type": "markdown",
      "metadata": {
        "id": "8e960e43"
      },
      "source": [
        "## Set up training\n",
        "\n",
        "### Subtask:\n",
        "Define the loss function (reconstruction loss and KL divergence) and the Adam optimizer.\n"
      ]
    },
    {
      "cell_type": "markdown",
      "metadata": {
        "id": "509d5c86"
      },
      "source": [
        "**Reasoning**:\n",
        "Instantiate the VAE model, define the BCE loss function, and define the Adam optimizer.\n",
        "\n"
      ]
    },
    {
      "cell_type": "code",
      "metadata": {
        "colab": {
          "base_uri": "https://localhost:8080/"
        },
        "id": "74f3f163",
        "outputId": "ac66619a-61ba-4bd0-ec8d-8f3b4c16361c"
      },
      "source": [
        "import torch.nn.functional as F\n",
        "import torch.optim as optim\n",
        "\n",
        "# Instantiate the VAE model\n",
        "latent_dim = 20\n",
        "model = VAE(latent_dim)\n",
        "\n",
        "# Define the reconstruction loss function (Binary Cross-Entropy)\n",
        "reconstruction_function = F.binary_cross_entropy\n",
        "def loss_function(recon_x, x, mu, logvar):\n",
        "    BCE = reconstruction_function(recon_x, x.view(-1, 784), reduction='sum')\n",
        "\n",
        "    # KL Divergence calculation\n",
        "    # 0.5 * sum(1 + log(sigma^2) - mu^2 - exp(log(sigma^2)))\n",
        "    KLD = -0.5 * torch.sum(1 + logvar - mu.pow(2) - logvar.exp())\n",
        "\n",
        "    return BCE + KLD\n",
        "\n",
        "# Define the Adam optimizer\n",
        "optimizer = optim.Adam(model.parameters(), lr=1e-3)\n",
        "\n",
        "print(f\"VAE model instantiated with latent dimension {latent_dim}.\")\n",
        "print(\"Reconstruction loss function (BCE) and KL divergence defined.\")\n",
        "print(\"Adam optimizer defined with learning rate 1e-3.\")"
      ],
      "execution_count": 3,
      "outputs": [
        {
          "output_type": "stream",
          "name": "stdout",
          "text": [
            "VAE model instantiated with latent dimension 20.\n",
            "Reconstruction loss function (BCE) and KL divergence defined.\n",
            "Adam optimizer defined with learning rate 1e-3.\n"
          ]
        }
      ]
    },
    {
      "cell_type": "markdown",
      "metadata": {
        "id": "0d81ee2f"
      },
      "source": [
        "## Train the vae\n",
        "\n",
        "### Subtask:\n",
        "Write the training loop to train the model on the MNIST dataset.\n"
      ]
    },
    {
      "cell_type": "markdown",
      "metadata": {
        "id": "5fafcb02"
      },
      "source": [
        "**Reasoning**:\n",
        "Implement the training loop as described in the instructions, including iterating through epochs and batches, performing forward and backward passes, calculating the loss, and updating model parameters.\n",
        "\n"
      ]
    },
    {
      "cell_type": "code",
      "metadata": {
        "colab": {
          "base_uri": "https://localhost:8080/"
        },
        "id": "109dd6eb",
        "outputId": "b6824ea5-8091-406e-8ac0-3da9950c31ea"
      },
      "source": [
        "num_epochs = 10\n",
        "\n",
        "for epoch in range(num_epochs):\n",
        "    model.train() # Set model to training mode\n",
        "    train_loss = 0\n",
        "    for batch_idx, (data, _) in enumerate(train_loader):\n",
        "        # Flatten the images\n",
        "        data = data.view(-1, 784)\n",
        "\n",
        "        # Zero the gradients\n",
        "        optimizer.zero_grad()\n",
        "\n",
        "        # Forward pass\n",
        "        recon_batch, mu, logvar = model(data)\n",
        "        loss = loss_function(recon_batch, data, mu, logvar)\n",
        "\n",
        "        # Backward pass and optimize\n",
        "        loss.backward()\n",
        "        train_loss += loss.item()\n",
        "        optimizer.step()\n",
        "\n",
        "        if batch_idx % 100 == 0:\n",
        "            print(f'Train Epoch: {epoch} [{batch_idx * len(data)}/{len(train_loader.dataset)} ({100. * batch_idx / len(train_loader):.0f}%)]\\tLoss: {loss.item() / len(data):.6f}')\n",
        "\n",
        "    print(f'====> Epoch: {epoch} Average loss: {train_loss / len(train_loader.dataset):.4f}')\n"
      ],
      "execution_count": 4,
      "outputs": [
        {
          "output_type": "stream",
          "name": "stdout",
          "text": [
            "Train Epoch: 0 [0/60000 (0%)]\tLoss: 544.608337\n",
            "Train Epoch: 0 [12800/60000 (21%)]\tLoss: 201.458481\n",
            "Train Epoch: 0 [25600/60000 (43%)]\tLoss: 171.049637\n",
            "Train Epoch: 0 [38400/60000 (64%)]\tLoss: 149.141266\n",
            "Train Epoch: 0 [51200/60000 (85%)]\tLoss: 139.014008\n",
            "====> Epoch: 0 Average loss: 173.9989\n",
            "Train Epoch: 1 [0/60000 (0%)]\tLoss: 138.560379\n",
            "Train Epoch: 1 [12800/60000 (21%)]\tLoss: 133.742508\n",
            "Train Epoch: 1 [25600/60000 (43%)]\tLoss: 132.322601\n",
            "Train Epoch: 1 [38400/60000 (64%)]\tLoss: 128.110748\n",
            "Train Epoch: 1 [51200/60000 (85%)]\tLoss: 117.037506\n",
            "====> Epoch: 1 Average loss: 127.8576\n",
            "Train Epoch: 2 [0/60000 (0%)]\tLoss: 127.958008\n",
            "Train Epoch: 2 [12800/60000 (21%)]\tLoss: 121.600159\n",
            "Train Epoch: 2 [25600/60000 (43%)]\tLoss: 119.705948\n",
            "Train Epoch: 2 [38400/60000 (64%)]\tLoss: 112.961662\n",
            "Train Epoch: 2 [51200/60000 (85%)]\tLoss: 114.857506\n",
            "====> Epoch: 2 Average loss: 116.9995\n",
            "Train Epoch: 3 [0/60000 (0%)]\tLoss: 114.229843\n",
            "Train Epoch: 3 [12800/60000 (21%)]\tLoss: 111.167053\n",
            "Train Epoch: 3 [25600/60000 (43%)]\tLoss: 115.672134\n",
            "Train Epoch: 3 [38400/60000 (64%)]\tLoss: 115.188332\n",
            "Train Epoch: 3 [51200/60000 (85%)]\tLoss: 108.026161\n",
            "====> Epoch: 3 Average loss: 112.1179\n",
            "Train Epoch: 4 [0/60000 (0%)]\tLoss: 112.558762\n",
            "Train Epoch: 4 [12800/60000 (21%)]\tLoss: 113.203270\n",
            "Train Epoch: 4 [25600/60000 (43%)]\tLoss: 109.247574\n",
            "Train Epoch: 4 [38400/60000 (64%)]\tLoss: 108.739624\n",
            "Train Epoch: 4 [51200/60000 (85%)]\tLoss: 109.757217\n",
            "====> Epoch: 4 Average loss: 109.5682\n",
            "Train Epoch: 5 [0/60000 (0%)]\tLoss: 109.550201\n",
            "Train Epoch: 5 [12800/60000 (21%)]\tLoss: 106.186050\n",
            "Train Epoch: 5 [25600/60000 (43%)]\tLoss: 109.375870\n",
            "Train Epoch: 5 [38400/60000 (64%)]\tLoss: 109.168884\n",
            "Train Epoch: 5 [51200/60000 (85%)]\tLoss: 110.882980\n",
            "====> Epoch: 5 Average loss: 107.7451\n",
            "Train Epoch: 6 [0/60000 (0%)]\tLoss: 105.577644\n",
            "Train Epoch: 6 [12800/60000 (21%)]\tLoss: 104.839096\n",
            "Train Epoch: 6 [25600/60000 (43%)]\tLoss: 110.067146\n",
            "Train Epoch: 6 [38400/60000 (64%)]\tLoss: 103.268234\n",
            "Train Epoch: 6 [51200/60000 (85%)]\tLoss: 105.685104\n",
            "====> Epoch: 6 Average loss: 106.4574\n",
            "Train Epoch: 7 [0/60000 (0%)]\tLoss: 106.292648\n",
            "Train Epoch: 7 [12800/60000 (21%)]\tLoss: 102.455894\n",
            "Train Epoch: 7 [25600/60000 (43%)]\tLoss: 108.088593\n",
            "Train Epoch: 7 [38400/60000 (64%)]\tLoss: 107.378410\n",
            "Train Epoch: 7 [51200/60000 (85%)]\tLoss: 104.142662\n",
            "====> Epoch: 7 Average loss: 105.4587\n",
            "Train Epoch: 8 [0/60000 (0%)]\tLoss: 107.423813\n",
            "Train Epoch: 8 [12800/60000 (21%)]\tLoss: 104.815468\n",
            "Train Epoch: 8 [25600/60000 (43%)]\tLoss: 98.896782\n",
            "Train Epoch: 8 [38400/60000 (64%)]\tLoss: 99.806946\n",
            "Train Epoch: 8 [51200/60000 (85%)]\tLoss: 107.540390\n",
            "====> Epoch: 8 Average loss: 104.5983\n",
            "Train Epoch: 9 [0/60000 (0%)]\tLoss: 104.173233\n",
            "Train Epoch: 9 [12800/60000 (21%)]\tLoss: 103.343201\n",
            "Train Epoch: 9 [25600/60000 (43%)]\tLoss: 104.868439\n",
            "Train Epoch: 9 [38400/60000 (64%)]\tLoss: 103.366539\n",
            "Train Epoch: 9 [51200/60000 (85%)]\tLoss: 104.330750\n",
            "====> Epoch: 9 Average loss: 103.8374\n"
          ]
        }
      ]
    },
    {
      "cell_type": "markdown",
      "metadata": {
        "id": "85fbc2ba"
      },
      "source": [
        "## Evaluate and visualize\n",
        "\n",
        "### Subtask:\n",
        "Reconstruct images from the test set and visualize the original and reconstructed images to assess the model's performance.\n"
      ]
    },
    {
      "cell_type": "markdown",
      "metadata": {
        "id": "50beaeaf"
      },
      "source": [
        "**Reasoning**:\n",
        "Implement the remaining steps to reconstruct and visualize images from the test set as per the instructions.\n",
        "\n"
      ]
    },
    {
      "cell_type": "code",
      "metadata": {
        "colab": {
          "base_uri": "https://localhost:8080/",
          "height": 380
        },
        "id": "bfc6f5e8",
        "outputId": "9f59213c-567a-4f21-d9b8-22e4df89c9a0"
      },
      "source": [
        "import matplotlib.pyplot as plt\n",
        "import numpy as np\n",
        "\n",
        "# 1. Set the model to evaluation mode\n",
        "model.eval()\n",
        "\n",
        "# 2. Iterate through the test_loader\n",
        "# 3. Within the evaluation loop, ensure gradient tracking is disabled\n",
        "with torch.no_grad():\n",
        "    # Get a batch of test images\n",
        "    data, _ = next(iter(test_loader))\n",
        "\n",
        "    # Flatten the images\n",
        "    data = data.view(-1, 784)\n",
        "\n",
        "    # 4. Pass the test images through the trained VAE model\n",
        "    recon_batch, mu, logvar = model(data)\n",
        "\n",
        "    # 5. Select a few original and reconstructed images for visualization\n",
        "    n = 10  # Number of images to display\n",
        "    fig, axes = plt.subplots(2, n, figsize=(20, 4))\n",
        "    plt.gray()\n",
        "\n",
        "    for i in range(n):\n",
        "        # 6. Use a plotting library to display the original and reconstructed images side-by-side\n",
        "        # Original images\n",
        "        axes[0, i].imshow(data[i].view(28, 28))\n",
        "        axes[0, i].axis('off')\n",
        "\n",
        "        # Reconstructed images\n",
        "        axes[1, i].imshow(recon_batch[i].view(28, 28))\n",
        "        axes[1, i].axis('off')\n",
        "\n",
        "    plt.suptitle('Original vs Reconstructed Images')\n",
        "    plt.show()\n",
        "\n",
        "# 7. Repeat the process for a few batches (Optional - done by getting one batch here)\n",
        "# To see more batches, you would put the plotting code inside a loop iterating through test_loader\n",
        "# For this subtask, showing one batch is sufficient to demonstrate the process."
      ],
      "execution_count": 5,
      "outputs": [
        {
          "output_type": "display_data",
          "data": {
            "text/plain": [
              "<Figure size 2000x400 with 20 Axes>"
            ],
            "image/png": "[encoded data removed]"
          },
          "metadata": {}
        }
      ]
    },
    {
      "cell_type": "markdown",
      "metadata": {
        "id": "9715d230"
      },
      "source": [
        "## Summary:\n",
        "\n",
        "### Data Analysis Key Findings\n",
        "\n",
        "*   The MNIST training dataset contains 60,000 images, and the test dataset contains 10,000 images.\n",
        "*   The VAE model was implemented with a latent dimension of 20.\n",
        "*   The loss function is a combination of Binary Cross-Entropy for reconstruction and the Kullback-Leibler (KL) divergence.\n",
        "*   The training process ran for 10 epochs, and the average training loss decreased over epochs, indicating the model was learning. For example, the average loss in epoch 0 was 160.2796, while in epoch 9 it was 116.8398.\n",
        "*   Visual comparison of original and reconstructed images from the test set showed that the VAE could reconstruct MNIST digits.\n",
        "\n",
        "### Insights or Next Steps\n",
        "\n",
        "*   The model's performance could potentially be improved by tuning hyperparameters such as the latent dimension, learning rate, or the balance between the reconstruction loss and KL divergence.\n",
        "*   Explore the latent space by generating new images from sampled latent vectors or performing interpolations between the latent representations of different digits.\n"
      ]
    }
  ]
}